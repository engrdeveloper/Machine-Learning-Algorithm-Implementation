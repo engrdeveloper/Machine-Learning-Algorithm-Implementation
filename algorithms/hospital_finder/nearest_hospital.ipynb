{
 "cells": [
  {
   "cell_type": "code",
   "execution_count": 2,
   "id": "a6b85bbf-5b39-4b10-980c-14e1b0eb6516",
   "metadata": {},
   "outputs": [
    {
     "name": "stdout",
     "output_type": "stream",
     "text": [
      "Nearest hospital: Sunrise Health Center\n"
     ]
    }
   ],
   "source": [
    "# Problem Statement:\n",
    "# You are building a location-based app. A user opens the app and wants to find the nearest hospital from their location.\n",
    "# Input: User’s coordinates (x, y)\n",
    "# Dataset: A list of hospitals with their coordinates and names.\n",
    "# Task: Find and return the nearest hospital name.\n",
    "\n",
    "import math\n",
    "hospitals = [\n",
    "    (\"City Hospital\", (2, 3)),\n",
    "    (\"Green Valley Clinic\", (5, 4)),\n",
    "    (\"Lakeside Hospital\", (9, 6)),\n",
    "    (\"Sunrise Health Center\", (4, 7)),\n",
    "    (\"Riverdale Hospital\", (8, 1))\n",
    "]\n",
    "\n",
    "\n",
    "# Example user location:\n",
    "userLocation = (6, 9)\n",
    "\n",
    "\n",
    "def findNearestHospital(userLocation, hospitals):\n",
    "    nearestHospital = None\n",
    "    nearestDistance = float('inf')\n",
    "\n",
    "    for hospital in hospitals:\n",
    "        name, location = hospital\n",
    "        xA, yA = userLocation\n",
    "        xB, yB = location\n",
    "        distance = math.sqrt((xB - xA) ** 2 + (yB - yA) ** 2)\n",
    "        if distance < nearestDistance:\n",
    "            nearestDistance = distance\n",
    "            nearestHospital = name\n",
    "    print(f\"Nearest hospital: {nearestHospital}\")\n",
    "\n",
    "\n",
    "findNearestHospital(userLocation, hospitals)\n"
   ]
  },
  {
   "cell_type": "code",
   "execution_count": null,
   "id": "56131d50-ee8d-49f2-a666-2552e08be2d9",
   "metadata": {},
   "outputs": [],
   "source": []
  }
 ],
 "metadata": {
  "kernelspec": {
   "display_name": "Python 3 (ipykernel)",
   "language": "python",
   "name": "python3"
  },
  "language_info": {
   "codemirror_mode": {
    "name": "ipython",
    "version": 3
   },
   "file_extension": ".py",
   "mimetype": "text/x-python",
   "name": "python",
   "nbconvert_exporter": "python",
   "pygments_lexer": "ipython3",
   "version": "3.13.3"
  }
 },
 "nbformat": 4,
 "nbformat_minor": 5
}
