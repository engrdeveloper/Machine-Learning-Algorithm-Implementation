{
 "cells": [
  {
   "cell_type": "code",
   "execution_count": 16,
   "id": "17f9e213-2ef1-46d4-a000-3faa30f672c8",
   "metadata": {},
   "outputs": [
    {
     "name": "stdout",
     "output_type": "stream",
     "text": [
      "Emails in each class: {'ham': 2, 'spam': 2}\n",
      "P(Class): {'ham': 0.5, 'spam': 0.5}\n",
      "Word count per class: {'ham': {'are': 1, 'to': 1, 'win': 0, 'the': 1, 'your': 0, 'lottery': 0, 'claim': 0, 'now': 0, 'for': 1, 'coming': 1, 'prize': 0, 'lunch': 1, 'meet': 2, 'let’s': 1, 'meeting': 1, 'you': 1, 'ticket': 0, 'a': 1, 'free': 0}, 'spam': {'are': 0, 'to': 0, 'win': 1, 'the': 0, 'your': 1, 'lottery': 1, 'claim': 1, 'now': 1, 'for': 0, 'coming': 0, 'prize': 1, 'lunch': 0, 'meet': 0, 'let’s': 0, 'meeting': 0, 'you': 1, 'ticket': 1, 'a': 2, 'free': 2}}\n",
      "P(word|Class): {'ham': {'are': 0.09523809523809523, 'to': 0.09523809523809523, 'win': 0.047619047619047616, 'the': 0.09523809523809523, 'your': 0.047619047619047616, 'lottery': 0.047619047619047616, 'claim': 0.047619047619047616, 'now': 0.047619047619047616, 'for': 0.09523809523809523, 'coming': 0.09523809523809523, 'prize': 0.047619047619047616, 'lunch': 0.09523809523809523, 'meet': 0.14285714285714285, 'let’s': 0.09523809523809523, 'meeting': 0.09523809523809523, 'you': 0.09523809523809523, 'ticket': 0.047619047619047616, 'a': 0.09523809523809523, 'free': 0.047619047619047616}, 'spam': {'are': 0.047619047619047616, 'to': 0.047619047619047616, 'win': 0.09523809523809523, 'the': 0.047619047619047616, 'your': 0.09523809523809523, 'lottery': 0.09523809523809523, 'claim': 0.09523809523809523, 'now': 0.09523809523809523, 'for': 0.047619047619047616, 'coming': 0.047619047619047616, 'prize': 0.09523809523809523, 'lunch': 0.047619047619047616, 'meet': 0.047619047619047616, 'let’s': 0.047619047619047616, 'meeting': 0.047619047619047616, 'you': 0.09523809523809523, 'ticket': 0.09523809523809523, 'a': 0.14285714285714285, 'free': 0.14285714285714285}}\n",
      "Classified email: spam\n"
     ]
    }
   ],
   "source": [
    "# Dataset\n",
    "emails = [\n",
    "    (\"win a free lottery ticket\", \"spam\"),\n",
    "    (\"claim your free prize now\", \"spam\"),\n",
    "    (\"let’s meet for lunch\", \"ham\"),\n",
    "    (\"are you coming to the meeting\", \"ham\")\n",
    "]\n",
    "\n",
    "totalEmails = len(emails)\n",
    "classes = set(email[1] for email in emails)\n",
    "\n",
    "# Vocabulary set (all unique words)\n",
    "vocab = set()\n",
    "for text, _ in emails:\n",
    "    for word in text.split():\n",
    "        vocab.add(word)\n",
    "\n",
    "\n",
    "# Count emails in each class\n",
    "emails_in_class = {}\n",
    "P_Class = {}\n",
    "\n",
    "for cls in classes:\n",
    "    count = 0\n",
    "    for text, label in emails:\n",
    "        if label == cls:\n",
    "            count += 1\n",
    "    emails_in_class[cls] = count\n",
    "    P_Class[cls] = count / totalEmails  # Prior probability\n",
    "\n",
    "print(\"Emails in each class:\", emails_in_class)\n",
    "print(\"P(Class):\", P_Class)\n",
    "\n",
    "# Count of each word per class\n",
    "word_count_per_class = {}\n",
    "for cls in classes:\n",
    "    word_count_per_class[cls] = {}\n",
    "    for word in vocab:\n",
    "        count = 0\n",
    "        for text, label in emails:\n",
    "            if label == cls and word in text:\n",
    "                count += 1\n",
    "        word_count_per_class[cls][word] = count\n",
    "\n",
    "print(\"Word count per class:\", word_count_per_class)\n",
    "\n",
    "# Calculate P(word|Class) with Laplace \n",
    "P_Word_Given_Class = {}\n",
    "for cls in classes:\n",
    "    P_Word_Given_Class[cls] = {}\n",
    "    for word in vocab:\n",
    "        count = word_count_per_class[cls][word]\n",
    "        P_Word_Given_Class[cls][word] = (count + 1) / (emails_in_class[cls] + len(vocab))\n",
    "print(\"P(word|Class):\", P_Word_Given_Class)\n",
    "\n",
    "new_Email = \"let’s win lottery hello\"\n",
    "\n",
    "# classify the email with spam or ham\n",
    "def classify_email(email):\n",
    "    scores = {}\n",
    "    for cls in classes:\n",
    "        P_Class_Given_Email = P_Class[cls]\n",
    "        for word in email.split():\n",
    "            if word in vocab:\n",
    "                P_Class_Given_Email *= P_Word_Given_Class[cls][word]\n",
    "        scores[cls] = P_Class_Given_Email\n",
    "    return max(scores, key=scores.get)\n",
    "\n",
    "print(\"Classified email:\", classify_email(new_Email))\n",
    "\n",
    "\n"
   ]
  },
  {
   "cell_type": "code",
   "execution_count": null,
   "id": "cf7cebb0",
   "metadata": {},
   "outputs": [],
   "source": []
  }
 ],
 "metadata": {
  "kernelspec": {
   "display_name": ".venv",
   "language": "python",
   "name": "python3"
  },
  "language_info": {
   "codemirror_mode": {
    "name": "ipython",
    "version": 3
   },
   "file_extension": ".py",
   "mimetype": "text/x-python",
   "name": "python",
   "nbconvert_exporter": "python",
   "pygments_lexer": "ipython3",
   "version": "3.13.3"
  }
 },
 "nbformat": 4,
 "nbformat_minor": 5
}
