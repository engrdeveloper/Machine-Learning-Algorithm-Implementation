{
 "cells": [
  {
   "cell_type": "code",
   "execution_count": 42,
   "id": "eb8706bd-e786-4056-bdbb-c6ea11581ef6",
   "metadata": {},
   "outputs": [
    {
     "name": "stdout",
     "output_type": "stream",
     "text": [
      "P(Class): {'spam': 0.5, 'ham': 0.5}\n",
      "P(Feature): 0.25\n",
      "P(Feature|Class): {'spam': 0.5, 'ham': 0.0}\n",
      "P(Class|Feature): {'spam': 1.0, 'ham': 0.0}\n"
     ]
    }
   ],
   "source": [
    "# Dataset\n",
    "emails = [\n",
    "    (\"win a free lottery ticket\", \"spam\"),\n",
    "    (\"claim your free prize now\", \"spam\"),\n",
    "    (\"let’s meet for lunch\", \"ham\"),\n",
    "    (\"are you coming to the meeting\", \"ham\")\n",
    "]\n",
    "\n",
    "totalEmails = len(emails)\n",
    "classes = set(email[1] for email in emails)\n",
    "\n",
    "# feature engineering\n",
    "featuredWord=\"lottery\"\n",
    "\n",
    "# Bayes theorem\n",
    "# P(Class|Feature) = P(Feature|Class) * P(Class) / P(Feature)\n",
    "\n",
    "# first calculate the probabiliy of each class -> P(Class)\n",
    "emails_in_class = {}\n",
    "P_Class = {}\n",
    "for cls in classes:\n",
    "    emails_in_class[cls] = 0\n",
    "    for text,label in emails:\n",
    "        if label == cls:\n",
    "            emails_in_class[cls] += 1\n",
    "    P_Class[cls] = emails_in_class[cls] / totalEmails\n",
    "\n",
    "print(\"P(Class):\",P_Class)\n",
    "    \n",
    "# second calculate the probabiliy of feature -> P(Feature)\n",
    "# P(Feature) = No. of emails with feature / No. of total emails\n",
    "No_of_emails_with_feature = 0\n",
    "for text,label in emails:\n",
    "    if featuredWord in text:\n",
    "        No_of_emails_with_feature += 1\n",
    "P_Feature = No_of_emails_with_feature / totalEmails\n",
    "print(\"P(Feature):\",P_Feature)\n",
    "\n",
    "# third calculate the probabiliy of feature -> P(Feature|Class)\n",
    "# P(Feature|Class) = P(Feature,Class) / No. of emails in this class\n",
    "\n",
    "\n",
    "P_Feature_Given_Class = {}\n",
    "for cls in classes:\n",
    "    P_Feature_Given_Class[cls] = 0\n",
    "    for text,label in emails:\n",
    "        if label == cls and featuredWord in text:\n",
    "            P_Feature_Given_Class[cls] += 1\n",
    "    P_Feature_Given_Class[cls] = P_Feature_Given_Class[cls] / emails_in_class[cls]\n",
    "print(\"P(Feature|Class):\",P_Feature_Given_Class)\n",
    "\n",
    "# fourth calculate the probabiliy of class given feature -> P(Class|Feature)\n",
    "# P(Class|Feature) = P(Feature|Class) * P(Class) / P(Feature)\n",
    "P_Class_Given_Feature = {}\n",
    "for cls in classes:\n",
    "    P_Class_Given_Feature[cls] = P_Feature_Given_Class[cls] * P_Class[cls] / P_Feature\n",
    "print(\"P(Class|Feature):\",P_Class_Given_Feature)\n",
    "    "
   ]
  },
  {
   "cell_type": "code",
   "execution_count": null,
   "id": "faee97c1-7bfb-4035-9e8a-341299f65c77",
   "metadata": {},
   "outputs": [],
   "source": []
  }
 ],
 "metadata": {
  "kernelspec": {
   "display_name": ".venv",
   "language": "python",
   "name": "python3"
  },
  "language_info": {
   "codemirror_mode": {
    "name": "ipython",
    "version": 3
   },
   "file_extension": ".py",
   "mimetype": "text/x-python",
   "name": "python",
   "nbconvert_exporter": "python",
   "pygments_lexer": "ipython3",
   "version": "3.13.3"
  }
 },
 "nbformat": 4,
 "nbformat_minor": 5
}
